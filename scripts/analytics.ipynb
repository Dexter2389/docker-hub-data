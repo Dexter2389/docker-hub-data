{
 "cells": [
  {
   "cell_type": "markdown",
   "metadata": {},
   "source": [
    "### uncomment and run the below code if plotly does not plot anything even after configuring it, so it may be worth a try starting with an increased data rate limit."
   ]
  },
  {
   "cell_type": "code",
   "execution_count": 4,
   "metadata": {},
   "outputs": [],
   "source": [
    "#!jupyter notebook --NotebookApp.iopub_data_rate_limit=1.0e10 "
   ]
  },
  {
   "cell_type": "code",
   "execution_count": 1,
   "metadata": {},
   "outputs": [],
   "source": [
    "import pandas as pd"
   ]
  },
  {
   "cell_type": "code",
   "execution_count": 10,
   "metadata": {},
   "outputs": [
    {
     "data": {
      "text/html": [
       "<script type=\"text/javascript\">window.PlotlyConfig = {MathJaxConfig: 'local'};</script><script type=\"text/javascript\">if (window.MathJax) {MathJax.Hub.Config({SVG: {font: \"STIX-Web\"}});}</script><script>requirejs.config({paths: { 'plotly': ['https://cdn.plot.ly/plotly-latest.min']},});if(!window._Plotly) {require(['plotly'],function(plotly) {window._Plotly=plotly;});}</script>"
      ],
      "text/vnd.plotly.v1+html": [
       "<script type=\"text/javascript\">window.PlotlyConfig = {MathJaxConfig: 'local'};</script><script type=\"text/javascript\">if (window.MathJax) {MathJax.Hub.Config({SVG: {font: \"STIX-Web\"}});}</script><script>requirejs.config({paths: { 'plotly': ['https://cdn.plot.ly/plotly-latest.min']},});if(!window._Plotly) {require(['plotly'],function(plotly) {window._Plotly=plotly;});}</script>"
      ]
     },
     "metadata": {},
     "output_type": "display_data"
    }
   ],
   "source": [
    "import matplotlib.pyplot as plt\n",
    "import seaborn as sns\n",
    "import plotly.graph_objs as go\n",
    "from plotly.offline import download_plotlyjs, init_notebook_mode, plot, iplot\n",
    "import plotly.graph_objs as go\n",
    "init_notebook_mode(connected=True)\n",
    "%matplotlib inline"
   ]
  },
  {
   "cell_type": "code",
   "execution_count": 11,
   "metadata": {},
   "outputs": [
    {
     "data": {
      "text/html": [
       "<script type=\"text/javascript\">window.PlotlyConfig = {MathJaxConfig: 'local'};</script><script type=\"text/javascript\">if (window.MathJax) {MathJax.Hub.Config({SVG: {font: \"STIX-Web\"}});}</script><script>requirejs.config({paths: { 'plotly': ['https://cdn.plot.ly/plotly-latest.min']},});if(!window._Plotly) {require(['plotly'],function(plotly) {window._Plotly=plotly;});}</script>"
      ],
      "text/vnd.plotly.v1+html": [
       "<script type=\"text/javascript\">window.PlotlyConfig = {MathJaxConfig: 'local'};</script><script type=\"text/javascript\">if (window.MathJax) {MathJax.Hub.Config({SVG: {font: \"STIX-Web\"}});}</script><script>requirejs.config({paths: { 'plotly': ['https://cdn.plot.ly/plotly-latest.min']},});if(!window._Plotly) {require(['plotly'],function(plotly) {window._Plotly=plotly;});}</script>"
      ]
     },
     "metadata": {},
     "output_type": "display_data"
    }
   ],
   "source": [
    "init_notebook_mode(connected=True)"
   ]
  },
  {
   "cell_type": "code",
   "execution_count": 12,
   "metadata": {},
   "outputs": [],
   "source": [
    "df=pd.read_csv('data.csv')"
   ]
  },
  {
   "cell_type": "code",
   "execution_count": 13,
   "metadata": {},
   "outputs": [
    {
     "data": {
      "text/html": [
       "<div>\n",
       "<style scoped>\n",
       "    .dataframe tbody tr th:only-of-type {\n",
       "        vertical-align: middle;\n",
       "    }\n",
       "\n",
       "    .dataframe tbody tr th {\n",
       "        vertical-align: top;\n",
       "    }\n",
       "\n",
       "    .dataframe thead th {\n",
       "        text-align: right;\n",
       "    }\n",
       "</style>\n",
       "<table border=\"1\" class=\"dataframe\">\n",
       "  <thead>\n",
       "    <tr style=\"text-align: right;\">\n",
       "      <th></th>\n",
       "      <th>name</th>\n",
       "      <th>0</th>\n",
       "      <th>1</th>\n",
       "      <th>2</th>\n",
       "      <th>3</th>\n",
       "      <th>4</th>\n",
       "      <th>5</th>\n",
       "      <th>6</th>\n",
       "      <th>7</th>\n",
       "      <th>8</th>\n",
       "      <th>...</th>\n",
       "      <th>148</th>\n",
       "      <th>149</th>\n",
       "      <th>150</th>\n",
       "      <th>151</th>\n",
       "      <th>152</th>\n",
       "      <th>153</th>\n",
       "      <th>154</th>\n",
       "      <th>155</th>\n",
       "      <th>156</th>\n",
       "      <th>157</th>\n",
       "    </tr>\n",
       "  </thead>\n",
       "  <tbody>\n",
       "    <tr>\n",
       "      <th>0</th>\n",
       "      <td>cacciald/mocker-python</td>\n",
       "      <td>0.0</td>\n",
       "      <td>0.0</td>\n",
       "      <td>0.0</td>\n",
       "      <td>0.0</td>\n",
       "      <td>0.0</td>\n",
       "      <td>0.0</td>\n",
       "      <td>0.0</td>\n",
       "      <td>0.0</td>\n",
       "      <td>0.0</td>\n",
       "      <td>...</td>\n",
       "      <td>0.0</td>\n",
       "      <td>0.0</td>\n",
       "      <td>0.0</td>\n",
       "      <td>0.0</td>\n",
       "      <td>0.0</td>\n",
       "      <td>0.0</td>\n",
       "      <td>0.0</td>\n",
       "      <td>0.0</td>\n",
       "      <td>617.0</td>\n",
       "      <td>623.0</td>\n",
       "    </tr>\n",
       "    <tr>\n",
       "      <th>1</th>\n",
       "      <td>dronemapper/node-micmac</td>\n",
       "      <td>0.0</td>\n",
       "      <td>0.0</td>\n",
       "      <td>0.0</td>\n",
       "      <td>0.0</td>\n",
       "      <td>0.0</td>\n",
       "      <td>0.0</td>\n",
       "      <td>0.0</td>\n",
       "      <td>0.0</td>\n",
       "      <td>0.0</td>\n",
       "      <td>...</td>\n",
       "      <td>0.0</td>\n",
       "      <td>0.0</td>\n",
       "      <td>0.0</td>\n",
       "      <td>0.0</td>\n",
       "      <td>0.0</td>\n",
       "      <td>0.0</td>\n",
       "      <td>1.0</td>\n",
       "      <td>3.0</td>\n",
       "      <td>7.0</td>\n",
       "      <td>8.0</td>\n",
       "    </tr>\n",
       "    <tr>\n",
       "      <th>2</th>\n",
       "      <td>webdollar/node</td>\n",
       "      <td>0.0</td>\n",
       "      <td>0.0</td>\n",
       "      <td>0.0</td>\n",
       "      <td>0.0</td>\n",
       "      <td>0.0</td>\n",
       "      <td>0.0</td>\n",
       "      <td>0.0</td>\n",
       "      <td>0.0</td>\n",
       "      <td>0.0</td>\n",
       "      <td>...</td>\n",
       "      <td>2600.0</td>\n",
       "      <td>2600.0</td>\n",
       "      <td>2700.0</td>\n",
       "      <td>2700.0</td>\n",
       "      <td>2700.0</td>\n",
       "      <td>2700.0</td>\n",
       "      <td>2700.0</td>\n",
       "      <td>2700.0</td>\n",
       "      <td>2700.0</td>\n",
       "      <td>2700.0</td>\n",
       "    </tr>\n",
       "    <tr>\n",
       "      <th>3</th>\n",
       "      <td>ctftraining/october_2019_twice_sqli</td>\n",
       "      <td>0.0</td>\n",
       "      <td>0.0</td>\n",
       "      <td>0.0</td>\n",
       "      <td>0.0</td>\n",
       "      <td>0.0</td>\n",
       "      <td>0.0</td>\n",
       "      <td>0.0</td>\n",
       "      <td>0.0</td>\n",
       "      <td>0.0</td>\n",
       "      <td>...</td>\n",
       "      <td>0.0</td>\n",
       "      <td>0.0</td>\n",
       "      <td>0.0</td>\n",
       "      <td>0.0</td>\n",
       "      <td>0.0</td>\n",
       "      <td>0.0</td>\n",
       "      <td>0.0</td>\n",
       "      <td>0.0</td>\n",
       "      <td>0.0</td>\n",
       "      <td>3.0</td>\n",
       "    </tr>\n",
       "    <tr>\n",
       "      <th>4</th>\n",
       "      <td>liquidweb/php-fpm_exporter</td>\n",
       "      <td>0.0</td>\n",
       "      <td>0.0</td>\n",
       "      <td>0.0</td>\n",
       "      <td>0.0</td>\n",
       "      <td>0.0</td>\n",
       "      <td>0.0</td>\n",
       "      <td>0.0</td>\n",
       "      <td>0.0</td>\n",
       "      <td>0.0</td>\n",
       "      <td>...</td>\n",
       "      <td>0.0</td>\n",
       "      <td>0.0</td>\n",
       "      <td>0.0</td>\n",
       "      <td>0.0</td>\n",
       "      <td>0.0</td>\n",
       "      <td>0.0</td>\n",
       "      <td>0.0</td>\n",
       "      <td>0.0</td>\n",
       "      <td>1.0</td>\n",
       "      <td>7.0</td>\n",
       "    </tr>\n",
       "  </tbody>\n",
       "</table>\n",
       "<p>5 rows × 159 columns</p>\n",
       "</div>"
      ],
      "text/plain": [
       "                                  name    0    1    2    3    4    5    6  \\\n",
       "0               cacciald/mocker-python  0.0  0.0  0.0  0.0  0.0  0.0  0.0   \n",
       "1              dronemapper/node-micmac  0.0  0.0  0.0  0.0  0.0  0.0  0.0   \n",
       "2                       webdollar/node  0.0  0.0  0.0  0.0  0.0  0.0  0.0   \n",
       "3  ctftraining/october_2019_twice_sqli  0.0  0.0  0.0  0.0  0.0  0.0  0.0   \n",
       "4           liquidweb/php-fpm_exporter  0.0  0.0  0.0  0.0  0.0  0.0  0.0   \n",
       "\n",
       "     7    8  ...     148     149     150     151     152     153     154  \\\n",
       "0  0.0  0.0  ...     0.0     0.0     0.0     0.0     0.0     0.0     0.0   \n",
       "1  0.0  0.0  ...     0.0     0.0     0.0     0.0     0.0     0.0     1.0   \n",
       "2  0.0  0.0  ...  2600.0  2600.0  2700.0  2700.0  2700.0  2700.0  2700.0   \n",
       "3  0.0  0.0  ...     0.0     0.0     0.0     0.0     0.0     0.0     0.0   \n",
       "4  0.0  0.0  ...     0.0     0.0     0.0     0.0     0.0     0.0     0.0   \n",
       "\n",
       "      155     156     157  \n",
       "0     0.0   617.0   623.0  \n",
       "1     3.0     7.0     8.0  \n",
       "2  2700.0  2700.0  2700.0  \n",
       "3     0.0     0.0     3.0  \n",
       "4     0.0     1.0     7.0  \n",
       "\n",
       "[5 rows x 159 columns]"
      ]
     },
     "execution_count": 13,
     "metadata": {},
     "output_type": "execute_result"
    }
   ],
   "source": [
    "df.head()"
   ]
  },
  {
   "cell_type": "code",
   "execution_count": 14,
   "metadata": {},
   "outputs": [
    {
     "data": {
      "text/plain": [
       "Index(['name', ' 0', ' 1', ' 2', ' 3', ' 4', ' 5', ' 6', ' 7', ' 8',\n",
       "       ...\n",
       "       ' 148', ' 149', ' 150', ' 151', ' 152', ' 153', ' 154', ' 155', ' 156',\n",
       "       ' 157'],\n",
       "      dtype='object', length=159)"
      ]
     },
     "execution_count": 14,
     "metadata": {},
     "output_type": "execute_result"
    }
   ],
   "source": [
    "df.columns"
   ]
  },
  {
   "cell_type": "code",
   "execution_count": 15,
   "metadata": {},
   "outputs": [
    {
     "data": {
      "text/html": [
       "<div>\n",
       "<style scoped>\n",
       "    .dataframe tbody tr th:only-of-type {\n",
       "        vertical-align: middle;\n",
       "    }\n",
       "\n",
       "    .dataframe tbody tr th {\n",
       "        vertical-align: top;\n",
       "    }\n",
       "\n",
       "    .dataframe thead th {\n",
       "        text-align: right;\n",
       "    }\n",
       "</style>\n",
       "<table border=\"1\" class=\"dataframe\">\n",
       "  <thead>\n",
       "    <tr style=\"text-align: right;\">\n",
       "      <th></th>\n",
       "      <th>0</th>\n",
       "      <th>1</th>\n",
       "      <th>2</th>\n",
       "      <th>3</th>\n",
       "      <th>4</th>\n",
       "      <th>5</th>\n",
       "      <th>6</th>\n",
       "      <th>7</th>\n",
       "      <th>8</th>\n",
       "      <th>9</th>\n",
       "      <th>...</th>\n",
       "      <th>148</th>\n",
       "      <th>149</th>\n",
       "      <th>150</th>\n",
       "      <th>151</th>\n",
       "      <th>152</th>\n",
       "      <th>153</th>\n",
       "      <th>154</th>\n",
       "      <th>155</th>\n",
       "      <th>156</th>\n",
       "      <th>157</th>\n",
       "    </tr>\n",
       "  </thead>\n",
       "  <tbody>\n",
       "    <tr>\n",
       "      <th>count</th>\n",
       "      <td>40248.0</td>\n",
       "      <td>4.024800e+04</td>\n",
       "      <td>4.024800e+04</td>\n",
       "      <td>4.024800e+04</td>\n",
       "      <td>4.024800e+04</td>\n",
       "      <td>4.024800e+04</td>\n",
       "      <td>4.024800e+04</td>\n",
       "      <td>4.024800e+04</td>\n",
       "      <td>4.024800e+04</td>\n",
       "      <td>4.024800e+04</td>\n",
       "      <td>...</td>\n",
       "      <td>4.024800e+04</td>\n",
       "      <td>4.024800e+04</td>\n",
       "      <td>4.024800e+04</td>\n",
       "      <td>4.024800e+04</td>\n",
       "      <td>4.024800e+04</td>\n",
       "      <td>4.024800e+04</td>\n",
       "      <td>4.024800e+04</td>\n",
       "      <td>4.024800e+04</td>\n",
       "      <td>4.024800e+04</td>\n",
       "      <td>4.024800e+04</td>\n",
       "    </tr>\n",
       "    <tr>\n",
       "      <th>mean</th>\n",
       "      <td>0.0</td>\n",
       "      <td>2.268311e+04</td>\n",
       "      <td>2.406579e+04</td>\n",
       "      <td>2.488844e+04</td>\n",
       "      <td>2.493813e+04</td>\n",
       "      <td>2.493813e+04</td>\n",
       "      <td>2.493813e+04</td>\n",
       "      <td>2.493813e+04</td>\n",
       "      <td>2.493813e+04</td>\n",
       "      <td>2.493813e+04</td>\n",
       "      <td>...</td>\n",
       "      <td>3.342457e+04</td>\n",
       "      <td>3.405174e+04</td>\n",
       "      <td>3.473001e+04</td>\n",
       "      <td>3.534688e+04</td>\n",
       "      <td>3.752867e+04</td>\n",
       "      <td>4.435848e+04</td>\n",
       "      <td>4.545265e+04</td>\n",
       "      <td>4.739973e+04</td>\n",
       "      <td>5.297682e+04</td>\n",
       "      <td>6.714372e+04</td>\n",
       "    </tr>\n",
       "    <tr>\n",
       "      <th>std</th>\n",
       "      <td>0.0</td>\n",
       "      <td>4.609205e+05</td>\n",
       "      <td>4.729639e+05</td>\n",
       "      <td>4.808152e+05</td>\n",
       "      <td>4.808643e+05</td>\n",
       "      <td>4.808643e+05</td>\n",
       "      <td>4.808643e+05</td>\n",
       "      <td>4.808643e+05</td>\n",
       "      <td>4.808643e+05</td>\n",
       "      <td>4.808643e+05</td>\n",
       "      <td>...</td>\n",
       "      <td>5.406268e+05</td>\n",
       "      <td>5.452234e+05</td>\n",
       "      <td>5.486984e+05</td>\n",
       "      <td>5.516380e+05</td>\n",
       "      <td>5.666661e+05</td>\n",
       "      <td>6.053678e+05</td>\n",
       "      <td>6.097126e+05</td>\n",
       "      <td>6.186129e+05</td>\n",
       "      <td>6.478371e+05</td>\n",
       "      <td>7.137991e+05</td>\n",
       "    </tr>\n",
       "    <tr>\n",
       "      <th>min</th>\n",
       "      <td>0.0</td>\n",
       "      <td>0.000000e+00</td>\n",
       "      <td>0.000000e+00</td>\n",
       "      <td>0.000000e+00</td>\n",
       "      <td>0.000000e+00</td>\n",
       "      <td>0.000000e+00</td>\n",
       "      <td>0.000000e+00</td>\n",
       "      <td>0.000000e+00</td>\n",
       "      <td>0.000000e+00</td>\n",
       "      <td>0.000000e+00</td>\n",
       "      <td>...</td>\n",
       "      <td>0.000000e+00</td>\n",
       "      <td>0.000000e+00</td>\n",
       "      <td>0.000000e+00</td>\n",
       "      <td>0.000000e+00</td>\n",
       "      <td>0.000000e+00</td>\n",
       "      <td>0.000000e+00</td>\n",
       "      <td>0.000000e+00</td>\n",
       "      <td>0.000000e+00</td>\n",
       "      <td>0.000000e+00</td>\n",
       "      <td>0.000000e+00</td>\n",
       "    </tr>\n",
       "    <tr>\n",
       "      <th>25%</th>\n",
       "      <td>0.0</td>\n",
       "      <td>0.000000e+00</td>\n",
       "      <td>0.000000e+00</td>\n",
       "      <td>0.000000e+00</td>\n",
       "      <td>0.000000e+00</td>\n",
       "      <td>0.000000e+00</td>\n",
       "      <td>0.000000e+00</td>\n",
       "      <td>0.000000e+00</td>\n",
       "      <td>0.000000e+00</td>\n",
       "      <td>0.000000e+00</td>\n",
       "      <td>...</td>\n",
       "      <td>0.000000e+00</td>\n",
       "      <td>0.000000e+00</td>\n",
       "      <td>0.000000e+00</td>\n",
       "      <td>0.000000e+00</td>\n",
       "      <td>0.000000e+00</td>\n",
       "      <td>0.000000e+00</td>\n",
       "      <td>0.000000e+00</td>\n",
       "      <td>0.000000e+00</td>\n",
       "      <td>0.000000e+00</td>\n",
       "      <td>0.000000e+00</td>\n",
       "    </tr>\n",
       "    <tr>\n",
       "      <th>50%</th>\n",
       "      <td>0.0</td>\n",
       "      <td>0.000000e+00</td>\n",
       "      <td>0.000000e+00</td>\n",
       "      <td>0.000000e+00</td>\n",
       "      <td>0.000000e+00</td>\n",
       "      <td>0.000000e+00</td>\n",
       "      <td>0.000000e+00</td>\n",
       "      <td>0.000000e+00</td>\n",
       "      <td>0.000000e+00</td>\n",
       "      <td>0.000000e+00</td>\n",
       "      <td>...</td>\n",
       "      <td>0.000000e+00</td>\n",
       "      <td>0.000000e+00</td>\n",
       "      <td>0.000000e+00</td>\n",
       "      <td>0.000000e+00</td>\n",
       "      <td>0.000000e+00</td>\n",
       "      <td>0.000000e+00</td>\n",
       "      <td>0.000000e+00</td>\n",
       "      <td>0.000000e+00</td>\n",
       "      <td>0.000000e+00</td>\n",
       "      <td>1.000000e+00</td>\n",
       "    </tr>\n",
       "    <tr>\n",
       "      <th>75%</th>\n",
       "      <td>0.0</td>\n",
       "      <td>0.000000e+00</td>\n",
       "      <td>0.000000e+00</td>\n",
       "      <td>0.000000e+00</td>\n",
       "      <td>0.000000e+00</td>\n",
       "      <td>0.000000e+00</td>\n",
       "      <td>0.000000e+00</td>\n",
       "      <td>0.000000e+00</td>\n",
       "      <td>0.000000e+00</td>\n",
       "      <td>0.000000e+00</td>\n",
       "      <td>...</td>\n",
       "      <td>0.000000e+00</td>\n",
       "      <td>0.000000e+00</td>\n",
       "      <td>0.000000e+00</td>\n",
       "      <td>0.000000e+00</td>\n",
       "      <td>0.000000e+00</td>\n",
       "      <td>0.000000e+00</td>\n",
       "      <td>0.000000e+00</td>\n",
       "      <td>0.000000e+00</td>\n",
       "      <td>1.100000e+01</td>\n",
       "      <td>1.700000e+02</td>\n",
       "    </tr>\n",
       "    <tr>\n",
       "      <th>max</th>\n",
       "      <td>0.0</td>\n",
       "      <td>1.000000e+07</td>\n",
       "      <td>1.000000e+07</td>\n",
       "      <td>1.000000e+07</td>\n",
       "      <td>1.000000e+07</td>\n",
       "      <td>1.000000e+07</td>\n",
       "      <td>1.000000e+07</td>\n",
       "      <td>1.000000e+07</td>\n",
       "      <td>1.000000e+07</td>\n",
       "      <td>1.000000e+07</td>\n",
       "      <td>...</td>\n",
       "      <td>1.000000e+07</td>\n",
       "      <td>1.000000e+07</td>\n",
       "      <td>1.000000e+07</td>\n",
       "      <td>1.000000e+07</td>\n",
       "      <td>1.000000e+07</td>\n",
       "      <td>1.000000e+07</td>\n",
       "      <td>1.000000e+07</td>\n",
       "      <td>1.000000e+07</td>\n",
       "      <td>1.000000e+07</td>\n",
       "      <td>1.000000e+07</td>\n",
       "    </tr>\n",
       "  </tbody>\n",
       "</table>\n",
       "<p>8 rows × 158 columns</p>\n",
       "</div>"
      ],
      "text/plain": [
       "             0             1             2             3             4  \\\n",
       "count  40248.0  4.024800e+04  4.024800e+04  4.024800e+04  4.024800e+04   \n",
       "mean       0.0  2.268311e+04  2.406579e+04  2.488844e+04  2.493813e+04   \n",
       "std        0.0  4.609205e+05  4.729639e+05  4.808152e+05  4.808643e+05   \n",
       "min        0.0  0.000000e+00  0.000000e+00  0.000000e+00  0.000000e+00   \n",
       "25%        0.0  0.000000e+00  0.000000e+00  0.000000e+00  0.000000e+00   \n",
       "50%        0.0  0.000000e+00  0.000000e+00  0.000000e+00  0.000000e+00   \n",
       "75%        0.0  0.000000e+00  0.000000e+00  0.000000e+00  0.000000e+00   \n",
       "max        0.0  1.000000e+07  1.000000e+07  1.000000e+07  1.000000e+07   \n",
       "\n",
       "                  5             6             7             8             9  \\\n",
       "count  4.024800e+04  4.024800e+04  4.024800e+04  4.024800e+04  4.024800e+04   \n",
       "mean   2.493813e+04  2.493813e+04  2.493813e+04  2.493813e+04  2.493813e+04   \n",
       "std    4.808643e+05  4.808643e+05  4.808643e+05  4.808643e+05  4.808643e+05   \n",
       "min    0.000000e+00  0.000000e+00  0.000000e+00  0.000000e+00  0.000000e+00   \n",
       "25%    0.000000e+00  0.000000e+00  0.000000e+00  0.000000e+00  0.000000e+00   \n",
       "50%    0.000000e+00  0.000000e+00  0.000000e+00  0.000000e+00  0.000000e+00   \n",
       "75%    0.000000e+00  0.000000e+00  0.000000e+00  0.000000e+00  0.000000e+00   \n",
       "max    1.000000e+07  1.000000e+07  1.000000e+07  1.000000e+07  1.000000e+07   \n",
       "\n",
       "       ...           148           149           150           151  \\\n",
       "count  ...  4.024800e+04  4.024800e+04  4.024800e+04  4.024800e+04   \n",
       "mean   ...  3.342457e+04  3.405174e+04  3.473001e+04  3.534688e+04   \n",
       "std    ...  5.406268e+05  5.452234e+05  5.486984e+05  5.516380e+05   \n",
       "min    ...  0.000000e+00  0.000000e+00  0.000000e+00  0.000000e+00   \n",
       "25%    ...  0.000000e+00  0.000000e+00  0.000000e+00  0.000000e+00   \n",
       "50%    ...  0.000000e+00  0.000000e+00  0.000000e+00  0.000000e+00   \n",
       "75%    ...  0.000000e+00  0.000000e+00  0.000000e+00  0.000000e+00   \n",
       "max    ...  1.000000e+07  1.000000e+07  1.000000e+07  1.000000e+07   \n",
       "\n",
       "                152           153           154           155           156  \\\n",
       "count  4.024800e+04  4.024800e+04  4.024800e+04  4.024800e+04  4.024800e+04   \n",
       "mean   3.752867e+04  4.435848e+04  4.545265e+04  4.739973e+04  5.297682e+04   \n",
       "std    5.666661e+05  6.053678e+05  6.097126e+05  6.186129e+05  6.478371e+05   \n",
       "min    0.000000e+00  0.000000e+00  0.000000e+00  0.000000e+00  0.000000e+00   \n",
       "25%    0.000000e+00  0.000000e+00  0.000000e+00  0.000000e+00  0.000000e+00   \n",
       "50%    0.000000e+00  0.000000e+00  0.000000e+00  0.000000e+00  0.000000e+00   \n",
       "75%    0.000000e+00  0.000000e+00  0.000000e+00  0.000000e+00  1.100000e+01   \n",
       "max    1.000000e+07  1.000000e+07  1.000000e+07  1.000000e+07  1.000000e+07   \n",
       "\n",
       "                157  \n",
       "count  4.024800e+04  \n",
       "mean   6.714372e+04  \n",
       "std    7.137991e+05  \n",
       "min    0.000000e+00  \n",
       "25%    0.000000e+00  \n",
       "50%    1.000000e+00  \n",
       "75%    1.700000e+02  \n",
       "max    1.000000e+07  \n",
       "\n",
       "[8 rows x 158 columns]"
      ]
     },
     "execution_count": 15,
     "metadata": {},
     "output_type": "execute_result"
    }
   ],
   "source": [
    "df.describe()"
   ]
  },
  {
   "cell_type": "code",
   "execution_count": 16,
   "metadata": {},
   "outputs": [],
   "source": [
    "def velocity(name,start,end):\n",
    "    time=end-start\n",
    "    x=list(range(start,end+1))\n",
    "    start_i=' '+str(start)\n",
    "    end_i=' '+str(end)\n",
    "    u=df[df['name']==name][start_i]\n",
    "    v=df[df['name']==name][end_i]\n",
    "    z=df[df['name']==name].values.tolist()\n",
    "    trace = go.Scatter(x=x,y = z[0][start:end])\n",
    "    data = [trace]\n",
    "    layout = go.Layout(\n",
    "    title=go.layout.Title(\n",
    "        text='Velocity of new content',\n",
    "        xref='paper',\n",
    "        x=0\n",
    "    ),\n",
    "    xaxis=go.layout.XAxis(\n",
    "        title=go.layout.xaxis.Title(\n",
    "            text='Period (every 4 hours)',\n",
    "            font=dict(\n",
    "                family='Courier New, monospace',\n",
    "                size=18,\n",
    "                color='#7f7f7f'\n",
    "            )\n",
    "        )\n",
    "    ),\n",
    "    yaxis=go.layout.YAxis(\n",
    "        title=go.layout.yaxis.Title(\n",
    "            text='Velocity',\n",
    "            font=dict(\n",
    "                family='Courier New, monospace',\n",
    "                size=18,\n",
    "                color='#7f7f7f'\n",
    "            )\n",
    "        )\n",
    "    )\n",
    "    )\n",
    "    fig = go.Figure(data=data, layout=layout)\n",
    "    iplot(fig, filename='basic-line')\n",
    "    return (v-u)/(time)"
   ]
  },
  {
   "cell_type": "code",
   "execution_count": 17,
   "metadata": {},
   "outputs": [
    {
     "data": {
      "application/vnd.plotly.v1+json": {
       "config": {
        "linkText": "Export to plot.ly",
        "plotlyServerURL": "https://plot.ly",
        "showLink": false
       },
       "data": [
        {
         "type": "scatter",
         "uid": "fc5bbd0d-0f91-4116-976c-609e3b5c8f1e",
         "x": [
          130,
          131,
          132,
          133,
          134,
          135,
          136,
          137,
          138,
          139,
          140,
          141,
          142,
          143,
          144,
          145,
          146,
          147,
          148,
          149,
          150,
          151,
          152,
          153,
          154,
          155,
          156
         ],
         "y": [
          328,
          328,
          328,
          328,
          346,
          369,
          371,
          373,
          385,
          408,
          409,
          457,
          489,
          495,
          497,
          521,
          547,
          576,
          608,
          614,
          639,
          643,
          664,
          697,
          725,
          728
         ]
        }
       ],
       "layout": {
        "title": {
         "text": "Velocity of new content",
         "x": 0,
         "xref": "paper"
        },
        "xaxis": {
         "title": {
          "font": {
           "color": "#7f7f7f",
           "family": "Courier New, monospace",
           "size": 18
          },
          "text": "Period (every 4 hours)"
         }
        },
        "yaxis": {
         "title": {
          "font": {
           "color": "#7f7f7f",
           "family": "Courier New, monospace",
           "size": 18
          },
          "text": "Velocity"
         }
        }
       }
      },
      "text/html": [
       "<div id=\"51636175-0c0b-4add-9f19-cf899555d189\" style=\"height: 525px; width: 100%;\" class=\"plotly-graph-div\"></div><script type=\"text/javascript\">require([\"plotly\"], function(Plotly) { window.PLOTLYENV=window.PLOTLYENV || {};window.PLOTLYENV.BASE_URL=\"https://plot.ly\";Plotly.newPlot(\"51636175-0c0b-4add-9f19-cf899555d189\", [{\"x\": [130, 131, 132, 133, 134, 135, 136, 137, 138, 139, 140, 141, 142, 143, 144, 145, 146, 147, 148, 149, 150, 151, 152, 153, 154, 155, 156], \"y\": [328.0, 328.0, 328.0, 328.0, 346.0, 369.0, 371.0, 373.0, 385.0, 408.0, 409.0, 457.0, 489.0, 495.0, 497.0, 521.0, 547.0, 576.0, 608.0, 614.0, 639.0, 643.0, 664.0, 697.0, 725.0, 728.0], \"type\": \"scatter\", \"uid\": \"fc5bbd0d-0f91-4116-976c-609e3b5c8f1e\"}], {\"title\": {\"text\": \"Velocity of new content\", \"x\": 0, \"xref\": \"paper\"}, \"xaxis\": {\"title\": {\"font\": {\"color\": \"#7f7f7f\", \"family\": \"Courier New, monospace\", \"size\": 18}, \"text\": \"Period (every 4 hours)\"}}, \"yaxis\": {\"title\": {\"font\": {\"color\": \"#7f7f7f\", \"family\": \"Courier New, monospace\", \"size\": 18}, \"text\": \"Velocity\"}}}, {\"showLink\": false, \"linkText\": \"Export to plot.ly\", \"plotlyServerURL\": \"https://plot.ly\"})});</script><script type=\"text/javascript\">window.addEventListener(\"resize\", function(){window._Plotly.Plots.resize(document.getElementById(\"51636175-0c0b-4add-9f19-cf899555d189\"));});</script>"
      ],
      "text/vnd.plotly.v1+html": [
       "<div id=\"51636175-0c0b-4add-9f19-cf899555d189\" style=\"height: 525px; width: 100%;\" class=\"plotly-graph-div\"></div><script type=\"text/javascript\">require([\"plotly\"], function(Plotly) { window.PLOTLYENV=window.PLOTLYENV || {};window.PLOTLYENV.BASE_URL=\"https://plot.ly\";Plotly.newPlot(\"51636175-0c0b-4add-9f19-cf899555d189\", [{\"x\": [130, 131, 132, 133, 134, 135, 136, 137, 138, 139, 140, 141, 142, 143, 144, 145, 146, 147, 148, 149, 150, 151, 152, 153, 154, 155, 156], \"y\": [328.0, 328.0, 328.0, 328.0, 346.0, 369.0, 371.0, 373.0, 385.0, 408.0, 409.0, 457.0, 489.0, 495.0, 497.0, 521.0, 547.0, 576.0, 608.0, 614.0, 639.0, 643.0, 664.0, 697.0, 725.0, 728.0], \"type\": \"scatter\", \"uid\": \"fc5bbd0d-0f91-4116-976c-609e3b5c8f1e\"}], {\"title\": {\"text\": \"Velocity of new content\", \"x\": 0, \"xref\": \"paper\"}, \"xaxis\": {\"title\": {\"font\": {\"color\": \"#7f7f7f\", \"family\": \"Courier New, monospace\", \"size\": 18}, \"text\": \"Period (every 4 hours)\"}}, \"yaxis\": {\"title\": {\"font\": {\"color\": \"#7f7f7f\", \"family\": \"Courier New, monospace\", \"size\": 18}, \"text\": \"Velocity\"}}}, {\"showLink\": false, \"linkText\": \"Export to plot.ly\", \"plotlyServerURL\": \"https://plot.ly\"})});</script><script type=\"text/javascript\">window.addEventListener(\"resize\", function(){window._Plotly.Plots.resize(document.getElementById(\"51636175-0c0b-4add-9f19-cf899555d189\"));});</script>"
      ]
     },
     "metadata": {},
     "output_type": "display_data"
    },
    {
     "data": {
      "text/plain": [
       "28    16.846154\n",
       "dtype: float64"
      ]
     },
     "execution_count": 17,
     "metadata": {},
     "output_type": "execute_result"
    }
   ],
   "source": [
    "velocity('ascensive/irc-rss-feed-bot',130,156)"
   ]
  },
  {
   "cell_type": "code",
   "execution_count": 18,
   "metadata": {},
   "outputs": [
    {
     "data": {
      "application/vnd.plotly.v1+json": {
       "config": {
        "linkText": "Export to plot.ly",
        "plotlyServerURL": "https://plot.ly",
        "showLink": false
       },
       "data": [
        {
         "type": "scatter",
         "uid": "959e673d-163f-4132-97e8-6aa1bc23f1cc",
         "x": [
          138,
          139,
          140,
          141,
          142,
          143,
          144,
          145,
          146,
          147,
          148,
          149,
          150,
          151,
          152,
          153,
          154,
          155,
          156
         ],
         "y": [
          0,
          359,
          365,
          389,
          407,
          412,
          422,
          438,
          461,
          465,
          467,
          473,
          491,
          499,
          503,
          509,
          509,
          509
         ]
        }
       ],
       "layout": {
        "title": {
         "text": "Velocity of new content",
         "x": 0,
         "xref": "paper"
        },
        "xaxis": {
         "title": {
          "font": {
           "color": "#7f7f7f",
           "family": "Courier New, monospace",
           "size": 18
          },
          "text": "Period (every 4 hours)"
         }
        },
        "yaxis": {
         "title": {
          "font": {
           "color": "#7f7f7f",
           "family": "Courier New, monospace",
           "size": 18
          },
          "text": "Velocity"
         }
        }
       }
      },
      "text/html": [
       "<div id=\"7ebdd5ec-4842-4c0f-aad8-84ccf16ece0c\" style=\"height: 525px; width: 100%;\" class=\"plotly-graph-div\"></div><script type=\"text/javascript\">require([\"plotly\"], function(Plotly) { window.PLOTLYENV=window.PLOTLYENV || {};window.PLOTLYENV.BASE_URL=\"https://plot.ly\";Plotly.newPlot(\"7ebdd5ec-4842-4c0f-aad8-84ccf16ece0c\", [{\"x\": [138, 139, 140, 141, 142, 143, 144, 145, 146, 147, 148, 149, 150, 151, 152, 153, 154, 155, 156], \"y\": [0.0, 359.0, 365.0, 389.0, 407.0, 412.0, 422.0, 438.0, 461.0, 465.0, 467.0, 473.0, 491.0, 499.0, 503.0, 509.0, 509.0, 509.0], \"type\": \"scatter\", \"uid\": \"959e673d-163f-4132-97e8-6aa1bc23f1cc\"}], {\"title\": {\"text\": \"Velocity of new content\", \"x\": 0, \"xref\": \"paper\"}, \"xaxis\": {\"title\": {\"font\": {\"color\": \"#7f7f7f\", \"family\": \"Courier New, monospace\", \"size\": 18}, \"text\": \"Period (every 4 hours)\"}}, \"yaxis\": {\"title\": {\"font\": {\"color\": \"#7f7f7f\", \"family\": \"Courier New, monospace\", \"size\": 18}, \"text\": \"Velocity\"}}}, {\"showLink\": false, \"linkText\": \"Export to plot.ly\", \"plotlyServerURL\": \"https://plot.ly\"})});</script><script type=\"text/javascript\">window.addEventListener(\"resize\", function(){window._Plotly.Plots.resize(document.getElementById(\"7ebdd5ec-4842-4c0f-aad8-84ccf16ece0c\"));});</script>"
      ],
      "text/vnd.plotly.v1+html": [
       "<div id=\"7ebdd5ec-4842-4c0f-aad8-84ccf16ece0c\" style=\"height: 525px; width: 100%;\" class=\"plotly-graph-div\"></div><script type=\"text/javascript\">require([\"plotly\"], function(Plotly) { window.PLOTLYENV=window.PLOTLYENV || {};window.PLOTLYENV.BASE_URL=\"https://plot.ly\";Plotly.newPlot(\"7ebdd5ec-4842-4c0f-aad8-84ccf16ece0c\", [{\"x\": [138, 139, 140, 141, 142, 143, 144, 145, 146, 147, 148, 149, 150, 151, 152, 153, 154, 155, 156], \"y\": [0.0, 359.0, 365.0, 389.0, 407.0, 412.0, 422.0, 438.0, 461.0, 465.0, 467.0, 473.0, 491.0, 499.0, 503.0, 509.0, 509.0, 509.0], \"type\": \"scatter\", \"uid\": \"959e673d-163f-4132-97e8-6aa1bc23f1cc\"}], {\"title\": {\"text\": \"Velocity of new content\", \"x\": 0, \"xref\": \"paper\"}, \"xaxis\": {\"title\": {\"font\": {\"color\": \"#7f7f7f\", \"family\": \"Courier New, monospace\", \"size\": 18}, \"text\": \"Period (every 4 hours)\"}}, \"yaxis\": {\"title\": {\"font\": {\"color\": \"#7f7f7f\", \"family\": \"Courier New, monospace\", \"size\": 18}, \"text\": \"Velocity\"}}}, {\"showLink\": false, \"linkText\": \"Export to plot.ly\", \"plotlyServerURL\": \"https://plot.ly\"})});</script><script type=\"text/javascript\">window.addEventListener(\"resize\", function(){window._Plotly.Plots.resize(document.getElementById(\"7ebdd5ec-4842-4c0f-aad8-84ccf16ece0c\"));});</script>"
      ]
     },
     "metadata": {},
     "output_type": "display_data"
    },
    {
     "data": {
      "text/plain": [
       "23    9.944444\n",
       "dtype: float64"
      ]
     },
     "execution_count": 18,
     "metadata": {},
     "output_type": "execute_result"
    }
   ],
   "source": [
    "velocity('legacysurvey/legacypipe',138,156)"
   ]
  },
  {
   "cell_type": "code",
   "execution_count": 47,
   "metadata": {},
   "outputs": [],
   "source": [
    "dfx=pd.read_json('dumped.json')"
   ]
  },
  {
   "cell_type": "code",
   "execution_count": 66,
   "metadata": {},
   "outputs": [],
   "source": [
    "def most_trending():\n",
    "    delta=[]\n",
    "    for i in range(len(dfx)):\n",
    "        u=dfx['data'][i][0]\n",
    "        v=dfx['data'][i][-1]\n",
    "        delta.append(v-u)\n",
    "    z=pd.DataFrame(delta,columns=['Velocity'])\n",
    "    z['Name']=dfx['name']\n",
    "    z=z.sort_values(by=['Velocity'],ascending=False)\n",
    "    return z"
   ]
  },
  {
   "cell_type": "code",
   "execution_count": 75,
   "metadata": {},
   "outputs": [],
   "source": [
    "bar=most_trending().iloc[20:40]"
   ]
  },
  {
   "cell_type": "code",
   "execution_count": 76,
   "metadata": {},
   "outputs": [
    {
     "data": {
      "text/html": [
       "<div>\n",
       "<style scoped>\n",
       "    .dataframe tbody tr th:only-of-type {\n",
       "        vertical-align: middle;\n",
       "    }\n",
       "\n",
       "    .dataframe tbody tr th {\n",
       "        vertical-align: top;\n",
       "    }\n",
       "\n",
       "    .dataframe thead th {\n",
       "        text-align: right;\n",
       "    }\n",
       "</style>\n",
       "<table border=\"1\" class=\"dataframe\">\n",
       "  <thead>\n",
       "    <tr style=\"text-align: right;\">\n",
       "      <th></th>\n",
       "      <th>Velocity</th>\n",
       "      <th>Name</th>\n",
       "    </tr>\n",
       "  </thead>\n",
       "  <tbody>\n",
       "    <tr>\n",
       "      <th>63</th>\n",
       "      <td>50000.0</td>\n",
       "      <td>machimachi/docker-node-with-chrome</td>\n",
       "    </tr>\n",
       "    <tr>\n",
       "      <th>1224</th>\n",
       "      <td>50000.0</td>\n",
       "      <td>diygod/rsshub</td>\n",
       "    </tr>\n",
       "    <tr>\n",
       "      <th>916</th>\n",
       "      <td>40000.0</td>\n",
       "      <td>consol/omd-labs-debian</td>\n",
       "    </tr>\n",
       "    <tr>\n",
       "      <th>1655</th>\n",
       "      <td>40000.0</td>\n",
       "      <td>bitnami/fluentd</td>\n",
       "    </tr>\n",
       "    <tr>\n",
       "      <th>1303</th>\n",
       "      <td>40000.0</td>\n",
       "      <td>d34dc3n73r/netdata-glibc</td>\n",
       "    </tr>\n",
       "    <tr>\n",
       "      <th>1063</th>\n",
       "      <td>40000.0</td>\n",
       "      <td>epruesse/biocondabot</td>\n",
       "    </tr>\n",
       "    <tr>\n",
       "      <th>1890</th>\n",
       "      <td>40000.0</td>\n",
       "      <td>scardon/ruby-node-alpine</td>\n",
       "    </tr>\n",
       "    <tr>\n",
       "      <th>1629</th>\n",
       "      <td>40000.0</td>\n",
       "      <td>bitnami/redis-sentinel</td>\n",
       "    </tr>\n",
       "    <tr>\n",
       "      <th>1958</th>\n",
       "      <td>40000.0</td>\n",
       "      <td>labeg/devpc</td>\n",
       "    </tr>\n",
       "    <tr>\n",
       "      <th>1810</th>\n",
       "      <td>40000.0</td>\n",
       "      <td>bitnami/git</td>\n",
       "    </tr>\n",
       "    <tr>\n",
       "      <th>691</th>\n",
       "      <td>9988.0</td>\n",
       "      <td>cykreet/statlas</td>\n",
       "    </tr>\n",
       "    <tr>\n",
       "      <th>132</th>\n",
       "      <td>9972.0</td>\n",
       "      <td>fluentd</td>\n",
       "    </tr>\n",
       "    <tr>\n",
       "      <th>1474</th>\n",
       "      <td>7200.0</td>\n",
       "      <td>redislabs/redismod</td>\n",
       "    </tr>\n",
       "    <tr>\n",
       "      <th>57</th>\n",
       "      <td>6598.0</td>\n",
       "      <td>forumi0721alpinex64/alpine-x64-vsftpd</td>\n",
       "    </tr>\n",
       "    <tr>\n",
       "      <th>1371</th>\n",
       "      <td>5598.0</td>\n",
       "      <td>forumi0721alpinex64build/alpine-x64-vlmcsd</td>\n",
       "    </tr>\n",
       "    <tr>\n",
       "      <th>496</th>\n",
       "      <td>5500.0</td>\n",
       "      <td>starlitghost/desertbot</td>\n",
       "    </tr>\n",
       "    <tr>\n",
       "      <th>1122</th>\n",
       "      <td>5476.0</td>\n",
       "      <td>andrewmhub/transmission-tracker-add</td>\n",
       "    </tr>\n",
       "    <tr>\n",
       "      <th>1783</th>\n",
       "      <td>4798.0</td>\n",
       "      <td>flourgaz/invidious</td>\n",
       "    </tr>\n",
       "    <tr>\n",
       "      <th>58</th>\n",
       "      <td>4300.0</td>\n",
       "      <td>apache/airflow</td>\n",
       "    </tr>\n",
       "    <tr>\n",
       "      <th>82</th>\n",
       "      <td>4200.0</td>\n",
       "      <td>forumi0721alpinex64/alpine-x64-webvirtcloud</td>\n",
       "    </tr>\n",
       "  </tbody>\n",
       "</table>\n",
       "</div>"
      ],
      "text/plain": [
       "      Velocity                                         Name\n",
       "63     50000.0           machimachi/docker-node-with-chrome\n",
       "1224   50000.0                                diygod/rsshub\n",
       "916    40000.0                       consol/omd-labs-debian\n",
       "1655   40000.0                              bitnami/fluentd\n",
       "1303   40000.0                     d34dc3n73r/netdata-glibc\n",
       "1063   40000.0                         epruesse/biocondabot\n",
       "1890   40000.0                     scardon/ruby-node-alpine\n",
       "1629   40000.0                       bitnami/redis-sentinel\n",
       "1958   40000.0                                  labeg/devpc\n",
       "1810   40000.0                                  bitnami/git\n",
       "691     9988.0                              cykreet/statlas\n",
       "132     9972.0                                      fluentd\n",
       "1474    7200.0                           redislabs/redismod\n",
       "57      6598.0        forumi0721alpinex64/alpine-x64-vsftpd\n",
       "1371    5598.0   forumi0721alpinex64build/alpine-x64-vlmcsd\n",
       "496     5500.0                       starlitghost/desertbot\n",
       "1122    5476.0          andrewmhub/transmission-tracker-add\n",
       "1783    4798.0                           flourgaz/invidious\n",
       "58      4300.0                               apache/airflow\n",
       "82      4200.0  forumi0721alpinex64/alpine-x64-webvirtcloud"
      ]
     },
     "execution_count": 76,
     "metadata": {},
     "output_type": "execute_result"
    }
   ],
   "source": [
    "bar"
   ]
  },
  {
   "cell_type": "code",
   "execution_count": 80,
   "metadata": {},
   "outputs": [
    {
     "data": {
      "application/vnd.plotly.v1+json": {
       "config": {
        "linkText": "Export to plot.ly",
        "plotlyServerURL": "https://plot.ly",
        "showLink": false
       },
       "data": [
        {
         "type": "bar",
         "uid": "a03a0459-31b9-4c31-9592-cf3b4b722d3a",
         "x": [
          "machimachi/docker-node-with-chrome",
          "diygod/rsshub",
          "consol/omd-labs-debian",
          "bitnami/fluentd",
          "d34dc3n73r/netdata-glibc",
          "epruesse/biocondabot",
          "scardon/ruby-node-alpine",
          "bitnami/redis-sentinel",
          "labeg/devpc",
          "bitnami/git",
          "cykreet/statlas",
          "fluentd",
          "redislabs/redismod",
          "forumi0721alpinex64/alpine-x64-vsftpd",
          "forumi0721alpinex64build/alpine-x64-vlmcsd",
          "starlitghost/desertbot",
          "andrewmhub/transmission-tracker-add",
          "flourgaz/invidious",
          "apache/airflow",
          "forumi0721alpinex64/alpine-x64-webvirtcloud"
         ],
         "y": [
          50000,
          50000,
          40000,
          40000,
          40000,
          40000,
          40000,
          40000,
          40000,
          40000,
          9988,
          9972,
          7200,
          6598,
          5598,
          5500,
          5476,
          4798,
          4300,
          4200
         ]
        }
       ],
       "layout": {
        "title": {
         "text": "Velocity",
         "x": 0,
         "xref": "paper"
        },
        "yaxis": {
         "title": {
          "font": {
           "color": "#7f7f7f",
           "family": "Courier New, monospace",
           "size": 18
          },
          "text": "Most Trending repositories"
         }
        }
       }
      },
      "text/html": [
       "<div id=\"7338a85e-fc7c-4f40-9d5d-66934af27cb6\" style=\"height: 525px; width: 100%;\" class=\"plotly-graph-div\"></div><script type=\"text/javascript\">require([\"plotly\"], function(Plotly) { window.PLOTLYENV=window.PLOTLYENV || {};window.PLOTLYENV.BASE_URL=\"https://plot.ly\";Plotly.newPlot(\"7338a85e-fc7c-4f40-9d5d-66934af27cb6\", [{\"x\": [\"machimachi/docker-node-with-chrome\", \"diygod/rsshub\", \"consol/omd-labs-debian\", \"bitnami/fluentd\", \"d34dc3n73r/netdata-glibc\", \"epruesse/biocondabot\", \"scardon/ruby-node-alpine\", \"bitnami/redis-sentinel\", \"labeg/devpc\", \"bitnami/git\", \"cykreet/statlas\", \"fluentd\", \"redislabs/redismod\", \"forumi0721alpinex64/alpine-x64-vsftpd\", \"forumi0721alpinex64build/alpine-x64-vlmcsd\", \"starlitghost/desertbot\", \"andrewmhub/transmission-tracker-add\", \"flourgaz/invidious\", \"apache/airflow\", \"forumi0721alpinex64/alpine-x64-webvirtcloud\"], \"y\": [50000.0, 50000.0, 40000.0, 40000.0, 40000.0, 40000.0, 40000.0, 40000.0, 40000.0, 40000.0, 9988.0, 9972.0, 7200.0, 6598.0, 5598.0, 5500.0, 5476.0, 4798.0, 4300.0, 4200.0], \"type\": \"bar\", \"uid\": \"a03a0459-31b9-4c31-9592-cf3b4b722d3a\"}], {\"title\": {\"text\": \"Velocity\", \"x\": 0, \"xref\": \"paper\"}, \"yaxis\": {\"title\": {\"font\": {\"color\": \"#7f7f7f\", \"family\": \"Courier New, monospace\", \"size\": 18}, \"text\": \"Most Trending repositories\"}}}, {\"showLink\": false, \"linkText\": \"Export to plot.ly\", \"plotlyServerURL\": \"https://plot.ly\"})});</script><script type=\"text/javascript\">window.addEventListener(\"resize\", function(){window._Plotly.Plots.resize(document.getElementById(\"7338a85e-fc7c-4f40-9d5d-66934af27cb6\"));});</script>"
      ],
      "text/vnd.plotly.v1+html": [
       "<div id=\"7338a85e-fc7c-4f40-9d5d-66934af27cb6\" style=\"height: 525px; width: 100%;\" class=\"plotly-graph-div\"></div><script type=\"text/javascript\">require([\"plotly\"], function(Plotly) { window.PLOTLYENV=window.PLOTLYENV || {};window.PLOTLYENV.BASE_URL=\"https://plot.ly\";Plotly.newPlot(\"7338a85e-fc7c-4f40-9d5d-66934af27cb6\", [{\"x\": [\"machimachi/docker-node-with-chrome\", \"diygod/rsshub\", \"consol/omd-labs-debian\", \"bitnami/fluentd\", \"d34dc3n73r/netdata-glibc\", \"epruesse/biocondabot\", \"scardon/ruby-node-alpine\", \"bitnami/redis-sentinel\", \"labeg/devpc\", \"bitnami/git\", \"cykreet/statlas\", \"fluentd\", \"redislabs/redismod\", \"forumi0721alpinex64/alpine-x64-vsftpd\", \"forumi0721alpinex64build/alpine-x64-vlmcsd\", \"starlitghost/desertbot\", \"andrewmhub/transmission-tracker-add\", \"flourgaz/invidious\", \"apache/airflow\", \"forumi0721alpinex64/alpine-x64-webvirtcloud\"], \"y\": [50000.0, 50000.0, 40000.0, 40000.0, 40000.0, 40000.0, 40000.0, 40000.0, 40000.0, 40000.0, 9988.0, 9972.0, 7200.0, 6598.0, 5598.0, 5500.0, 5476.0, 4798.0, 4300.0, 4200.0], \"type\": \"bar\", \"uid\": \"a03a0459-31b9-4c31-9592-cf3b4b722d3a\"}], {\"title\": {\"text\": \"Velocity\", \"x\": 0, \"xref\": \"paper\"}, \"yaxis\": {\"title\": {\"font\": {\"color\": \"#7f7f7f\", \"family\": \"Courier New, monospace\", \"size\": 18}, \"text\": \"Most Trending repositories\"}}}, {\"showLink\": false, \"linkText\": \"Export to plot.ly\", \"plotlyServerURL\": \"https://plot.ly\"})});</script><script type=\"text/javascript\">window.addEventListener(\"resize\", function(){window._Plotly.Plots.resize(document.getElementById(\"7338a85e-fc7c-4f40-9d5d-66934af27cb6\"));});</script>"
      ]
     },
     "metadata": {},
     "output_type": "display_data"
    }
   ],
   "source": [
    "data = [go.Bar(x=bar['Name'],y=bar['Velocity'])]\n",
    "layout = go.Layout(\n",
    "title=go.layout.Title(\n",
    "        text='Velocity',\n",
    "        xref='paper',\n",
    "        x=0\n",
    "    ),\n",
    "yaxis=go.layout.YAxis(\n",
    "        title=go.layout.yaxis.Title(\n",
    "            text='Velcotiy',\n",
    "            font=dict(\n",
    "                family='Courier New, monospace',\n",
    "                size=18,\n",
    "                color='#7f7f7f'\n",
    "            )\n",
    "        )\n",
    "    )\n",
    "    )\n",
    "fig = go.Figure(data=data, layout=layout)\n",
    "iplot(fig, filename='jupyter-basic_bar',show_link=False)"
   ]
  },
  {
   "cell_type": "code",
   "execution_count": 288,
   "metadata": {},
   "outputs": [],
   "source": [
    "def hotness(start,end,top=7):\n",
    "    start=' '+str(start)\n",
    "    end=' '+str(end)\n",
    "    dfx=df[df[start]>0]\n",
    "    z=pd.DataFrame((dfx[end]-dfx[start])/dfx[start],columns=['Hotness'])\n",
    "    z['Name']=df['name']\n",
    "    z=z.sort_values(by=['Hotness'],ascending=False)\n",
    "    data = [go.Bar(x=z['Name'].head(top),y=z['Hotness'].head(top))]\n",
    "    layout = go.Layout(\n",
    "    title=go.layout.Title(\n",
    "        text='Hottest repositories',\n",
    "        xref='paper',\n",
    "        x=0\n",
    "    ),\n",
    "    yaxis=go.layout.YAxis(\n",
    "        title=go.layout.yaxis.Title(\n",
    "            text='Hotness',\n",
    "            font=dict(\n",
    "                family='Courier New, monospace',\n",
    "                size=18,\n",
    "                color='#7f7f7f'\n",
    "            )\n",
    "        )\n",
    "    )\n",
    "    )\n",
    "    fig = go.Figure(data=data, layout=layout)\n",
    "    iplot(fig, filename='jupyter-basic_bar',show_link=False)\n",
    "    return z"
   ]
  },
  {
   "cell_type": "code",
   "execution_count": 291,
   "metadata": {},
   "outputs": [
    {
     "data": {
      "application/vnd.plotly.v1+json": {
       "config": {
        "linkText": "Export to plot.ly",
        "plotlyServerURL": "https://plot.ly",
        "showLink": false
       },
       "data": [
        {
         "type": "bar",
         "uid": "546a0e8d-0229-49d0-8664-7da5e59402b2",
         "x": [
          "fluentd",
          "silverpeas",
          "tparkerusgs/avoviirsprocessor",
          "usgsastro/jenkins",
          "nixilla/jenkins",
          "roflcoopter/homeassistant-socat",
          "apache/airflow",
          "fixiu/jenkins-pipeline",
          "oondeo/openshift-router",
          "rauccapuclla/jenkins-docker"
         ],
         "y": [
          9.090817356205852,
          4,
          3.345549738219895,
          1.492063492063492,
          1.4901960784313726,
          0.7741935483870968,
          0.7543859649122807,
          0.6732673267326733,
          0.4880952380952381,
          0.43884892086330934
         ]
        }
       ],
       "layout": {
        "title": {
         "text": "Hottest repositories",
         "x": 0,
         "xref": "paper"
        },
        "yaxis": {
         "title": {
          "font": {
           "color": "#7f7f7f",
           "family": "Courier New, monospace",
           "size": 18
          },
          "text": "Hotness"
         }
        }
       }
      },
      "text/html": [
       "<div id=\"40577db6-bbaf-4ee3-9a7d-5724a3158caa\" style=\"height: 525px; width: 100%;\" class=\"plotly-graph-div\"></div><script type=\"text/javascript\">require([\"plotly\"], function(Plotly) { window.PLOTLYENV=window.PLOTLYENV || {};window.PLOTLYENV.BASE_URL=\"https://plot.ly\";Plotly.newPlot(\"40577db6-bbaf-4ee3-9a7d-5724a3158caa\", [{\"x\": [\"fluentd\", \"silverpeas\", \"tparkerusgs/avoviirsprocessor\", \"usgsastro/jenkins\", \"nixilla/jenkins\", \"roflcoopter/homeassistant-socat\", \"apache/airflow\", \"fixiu/jenkins-pipeline\", \"oondeo/openshift-router\", \"rauccapuclla/jenkins-docker\"], \"y\": [9.090817356205852, 4.0, 3.345549738219895, 1.492063492063492, 1.4901960784313726, 0.7741935483870968, 0.7543859649122807, 0.6732673267326733, 0.4880952380952381, 0.43884892086330934], \"type\": \"bar\", \"uid\": \"546a0e8d-0229-49d0-8664-7da5e59402b2\"}], {\"title\": {\"text\": \"Hottest repositories\", \"x\": 0, \"xref\": \"paper\"}, \"yaxis\": {\"title\": {\"font\": {\"color\": \"#7f7f7f\", \"family\": \"Courier New, monospace\", \"size\": 18}, \"text\": \"Hotness\"}}}, {\"showLink\": false, \"linkText\": \"Export to plot.ly\", \"plotlyServerURL\": \"https://plot.ly\"})});</script><script type=\"text/javascript\">window.addEventListener(\"resize\", function(){window._Plotly.Plots.resize(document.getElementById(\"40577db6-bbaf-4ee3-9a7d-5724a3158caa\"));});</script>"
      ],
      "text/vnd.plotly.v1+html": [
       "<div id=\"40577db6-bbaf-4ee3-9a7d-5724a3158caa\" style=\"height: 525px; width: 100%;\" class=\"plotly-graph-div\"></div><script type=\"text/javascript\">require([\"plotly\"], function(Plotly) { window.PLOTLYENV=window.PLOTLYENV || {};window.PLOTLYENV.BASE_URL=\"https://plot.ly\";Plotly.newPlot(\"40577db6-bbaf-4ee3-9a7d-5724a3158caa\", [{\"x\": [\"fluentd\", \"silverpeas\", \"tparkerusgs/avoviirsprocessor\", \"usgsastro/jenkins\", \"nixilla/jenkins\", \"roflcoopter/homeassistant-socat\", \"apache/airflow\", \"fixiu/jenkins-pipeline\", \"oondeo/openshift-router\", \"rauccapuclla/jenkins-docker\"], \"y\": [9.090817356205852, 4.0, 3.345549738219895, 1.492063492063492, 1.4901960784313726, 0.7741935483870968, 0.7543859649122807, 0.6732673267326733, 0.4880952380952381, 0.43884892086330934], \"type\": \"bar\", \"uid\": \"546a0e8d-0229-49d0-8664-7da5e59402b2\"}], {\"title\": {\"text\": \"Hottest repositories\", \"x\": 0, \"xref\": \"paper\"}, \"yaxis\": {\"title\": {\"font\": {\"color\": \"#7f7f7f\", \"family\": \"Courier New, monospace\", \"size\": 18}, \"text\": \"Hotness\"}}}, {\"showLink\": false, \"linkText\": \"Export to plot.ly\", \"plotlyServerURL\": \"https://plot.ly\"})});</script><script type=\"text/javascript\">window.addEventListener(\"resize\", function(){window._Plotly.Plots.resize(document.getElementById(\"40577db6-bbaf-4ee3-9a7d-5724a3158caa\"));});</script>"
      ]
     },
     "metadata": {},
     "output_type": "display_data"
    },
    {
     "data": {
      "text/html": [
       "<div>\n",
       "<style scoped>\n",
       "    .dataframe tbody tr th:only-of-type {\n",
       "        vertical-align: middle;\n",
       "    }\n",
       "\n",
       "    .dataframe tbody tr th {\n",
       "        vertical-align: top;\n",
       "    }\n",
       "\n",
       "    .dataframe thead th {\n",
       "        text-align: right;\n",
       "    }\n",
       "</style>\n",
       "<table border=\"1\" class=\"dataframe\">\n",
       "  <thead>\n",
       "    <tr style=\"text-align: right;\">\n",
       "      <th></th>\n",
       "      <th>Hotness</th>\n",
       "      <th>Name</th>\n",
       "    </tr>\n",
       "  </thead>\n",
       "  <tbody>\n",
       "    <tr>\n",
       "      <th>258</th>\n",
       "      <td>9.090817</td>\n",
       "      <td>fluentd</td>\n",
       "    </tr>\n",
       "    <tr>\n",
       "      <th>269</th>\n",
       "      <td>4.000000</td>\n",
       "      <td>silverpeas</td>\n",
       "    </tr>\n",
       "    <tr>\n",
       "      <th>616</th>\n",
       "      <td>3.345550</td>\n",
       "      <td>tparkerusgs/avoviirsprocessor</td>\n",
       "    </tr>\n",
       "    <tr>\n",
       "      <th>1297</th>\n",
       "      <td>1.492063</td>\n",
       "      <td>usgsastro/jenkins</td>\n",
       "    </tr>\n",
       "    <tr>\n",
       "      <th>1309</th>\n",
       "      <td>1.490196</td>\n",
       "      <td>nixilla/jenkins</td>\n",
       "    </tr>\n",
       "    <tr>\n",
       "      <th>57</th>\n",
       "      <td>0.774194</td>\n",
       "      <td>roflcoopter/homeassistant-socat</td>\n",
       "    </tr>\n",
       "    <tr>\n",
       "      <th>113</th>\n",
       "      <td>0.754386</td>\n",
       "      <td>apache/airflow</td>\n",
       "    </tr>\n",
       "    <tr>\n",
       "      <th>1354</th>\n",
       "      <td>0.673267</td>\n",
       "      <td>fixiu/jenkins-pipeline</td>\n",
       "    </tr>\n",
       "    <tr>\n",
       "      <th>15063</th>\n",
       "      <td>0.488095</td>\n",
       "      <td>oondeo/openshift-router</td>\n",
       "    </tr>\n",
       "    <tr>\n",
       "      <th>1288</th>\n",
       "      <td>0.438849</td>\n",
       "      <td>rauccapuclla/jenkins-docker</td>\n",
       "    </tr>\n",
       "  </tbody>\n",
       "</table>\n",
       "</div>"
      ],
      "text/plain": [
       "        Hotness                             Name\n",
       "258    9.090817                          fluentd\n",
       "269    4.000000                       silverpeas\n",
       "616    3.345550    tparkerusgs/avoviirsprocessor\n",
       "1297   1.492063                usgsastro/jenkins\n",
       "1309   1.490196                  nixilla/jenkins\n",
       "57     0.774194  roflcoopter/homeassistant-socat\n",
       "113    0.754386                   apache/airflow\n",
       "1354   0.673267           fixiu/jenkins-pipeline\n",
       "15063  0.488095          oondeo/openshift-router\n",
       "1288   0.438849      rauccapuclla/jenkins-docker"
      ]
     },
     "execution_count": 291,
     "metadata": {},
     "output_type": "execute_result"
    }
   ],
   "source": [
    "hotness(100,150,top=10).head(10)"
   ]
  },
  {
   "cell_type": "code",
   "execution_count": null,
   "metadata": {},
   "outputs": [],
   "source": []
  }
 ],
 "metadata": {
  "kernelspec": {
   "display_name": "Python 3",
   "language": "python",
   "name": "python3"
  },
  "language_info": {
   "codemirror_mode": {
    "name": "ipython",
    "version": 3
   },
   "file_extension": ".py",
   "mimetype": "text/x-python",
   "name": "python",
   "nbconvert_exporter": "python",
   "pygments_lexer": "ipython3",
   "version": "3.7.1"
  }
 },
 "nbformat": 4,
 "nbformat_minor": 2
}
